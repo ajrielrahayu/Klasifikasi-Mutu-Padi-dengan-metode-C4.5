{
 "cells": [
  {
   "cell_type": "code",
   "execution_count": 1,
   "metadata": {},
   "outputs": [],
   "source": [
    "#Menyiapkan liblary yang dibutuhkan\n",
    "import numpy as np\n",
    "import pandas as pd\n",
    "import matplotlib.pyplot as plt"
   ]
  },
  {
   "cell_type": "code",
   "execution_count": 2,
   "metadata": {},
   "outputs": [
    {
     "data": {
      "text/html": [
       "<div>\n",
       "<style scoped>\n",
       "    .dataframe tbody tr th:only-of-type {\n",
       "        vertical-align: middle;\n",
       "    }\n",
       "\n",
       "    .dataframe tbody tr th {\n",
       "        vertical-align: top;\n",
       "    }\n",
       "\n",
       "    .dataframe thead th {\n",
       "        text-align: right;\n",
       "    }\n",
       "</style>\n",
       "<table border=\"1\" class=\"dataframe\">\n",
       "  <thead>\n",
       "    <tr style=\"text-align: right;\">\n",
       "      <th></th>\n",
       "      <th>No.</th>\n",
       "      <th>Variates</th>\n",
       "      <th>P.</th>\n",
       "      <th>B.</th>\n",
       "      <th>Warna</th>\n",
       "      <th>rasa</th>\n",
       "      <th>teknik</th>\n",
       "      <th>Musim</th>\n",
       "      <th>Penyakit</th>\n",
       "      <th>PH</th>\n",
       "      <th>Grade Mutu</th>\n",
       "    </tr>\n",
       "  </thead>\n",
       "  <tbody>\n",
       "    <tr>\n",
       "      <th>1</th>\n",
       "      <td>1.0</td>\n",
       "      <td>panda wangi</td>\n",
       "      <td>6.3</td>\n",
       "      <td>1.2</td>\n",
       "      <td>putih</td>\n",
       "      <td>sangat pulen</td>\n",
       "      <td>Jajar Legowo</td>\n",
       "      <td>Hujan</td>\n",
       "      <td>Burung</td>\n",
       "      <td>2.0</td>\n",
       "      <td>Grade D</td>\n",
       "    </tr>\n",
       "    <tr>\n",
       "      <th>2</th>\n",
       "      <td>2.0</td>\n",
       "      <td>ciheran</td>\n",
       "      <td>7.2</td>\n",
       "      <td>2.3</td>\n",
       "      <td>putih</td>\n",
       "      <td>pulen</td>\n",
       "      <td>Jajar Legowo</td>\n",
       "      <td>Hujan</td>\n",
       "      <td>penggerek batang</td>\n",
       "      <td>2.0</td>\n",
       "      <td>Grade C</td>\n",
       "    </tr>\n",
       "    <tr>\n",
       "      <th>3</th>\n",
       "      <td>3.0</td>\n",
       "      <td>mi kongga</td>\n",
       "      <td>6.1</td>\n",
       "      <td>3.3</td>\n",
       "      <td>putih</td>\n",
       "      <td>sangat pulen</td>\n",
       "      <td>SRI</td>\n",
       "      <td>Hujan</td>\n",
       "      <td>wereng coklat</td>\n",
       "      <td>2.0</td>\n",
       "      <td>Grade D</td>\n",
       "    </tr>\n",
       "    <tr>\n",
       "      <th>4</th>\n",
       "      <td>4.0</td>\n",
       "      <td>IR 64</td>\n",
       "      <td>6.1</td>\n",
       "      <td>4.2</td>\n",
       "      <td>putih</td>\n",
       "      <td>pulen</td>\n",
       "      <td>SRI</td>\n",
       "      <td>Hujan</td>\n",
       "      <td>wereng hijau</td>\n",
       "      <td>2.0</td>\n",
       "      <td>Grade B</td>\n",
       "    </tr>\n",
       "    <tr>\n",
       "      <th>5</th>\n",
       "      <td>5.0</td>\n",
       "      <td>Beras Merah</td>\n",
       "      <td>7.3</td>\n",
       "      <td>5.1</td>\n",
       "      <td>merah</td>\n",
       "      <td>sangat pulen</td>\n",
       "      <td>Jajar Legowo</td>\n",
       "      <td>Hujan</td>\n",
       "      <td>tikus</td>\n",
       "      <td>2.0</td>\n",
       "      <td>Grade C</td>\n",
       "    </tr>\n",
       "  </tbody>\n",
       "</table>\n",
       "</div>"
      ],
      "text/plain": [
       "   No.     Variates   P.   B.  Warna          rasa        teknik  Musim  \\\n",
       "1  1.0  panda wangi  6.3  1.2  putih  sangat pulen  Jajar Legowo  Hujan   \n",
       "2  2.0      ciheran  7.2  2.3  putih         pulen  Jajar Legowo  Hujan   \n",
       "3  3.0    mi kongga  6.1  3.3  putih  sangat pulen           SRI  Hujan   \n",
       "4  4.0        IR 64  6.1  4.2  putih         pulen           SRI  Hujan   \n",
       "5  5.0  Beras Merah  7.3  5.1  merah  sangat pulen  Jajar Legowo  Hujan   \n",
       "\n",
       "           Penyakit   PH Grade Mutu  \n",
       "1            Burung  2.0    Grade D  \n",
       "2  penggerek batang  2.0    Grade C  \n",
       "3     wereng coklat  2.0    Grade D  \n",
       "4      wereng hijau  2.0    Grade B  \n",
       "5             tikus  2.0    Grade C  "
      ]
     },
     "execution_count": 2,
     "metadata": {},
     "output_type": "execute_result"
    }
   ],
   "source": [
    "#Menyiapkan data yang dipakai\n",
    "df = pd.read_excel('Documents/Portofolio/Data Science/klasifikasi mutu padi/Dataset/Data Mutu Padi Organik.xls', header= 2).dropna()\n",
    "df.head()"
   ]
  },
  {
   "cell_type": "code",
   "execution_count": 3,
   "metadata": {},
   "outputs": [
    {
     "data": {
      "text/html": [
       "<div>\n",
       "<style scoped>\n",
       "    .dataframe tbody tr th:only-of-type {\n",
       "        vertical-align: middle;\n",
       "    }\n",
       "\n",
       "    .dataframe tbody tr th {\n",
       "        vertical-align: top;\n",
       "    }\n",
       "\n",
       "    .dataframe thead th {\n",
       "        text-align: right;\n",
       "    }\n",
       "</style>\n",
       "<table border=\"1\" class=\"dataframe\">\n",
       "  <thead>\n",
       "    <tr style=\"text-align: right;\">\n",
       "      <th></th>\n",
       "      <th>Variates</th>\n",
       "      <th>P.</th>\n",
       "      <th>B.</th>\n",
       "      <th>Warna</th>\n",
       "      <th>rasa</th>\n",
       "      <th>teknik</th>\n",
       "      <th>Musim</th>\n",
       "      <th>Penyakit</th>\n",
       "      <th>PH</th>\n",
       "      <th>Grade Mutu</th>\n",
       "    </tr>\n",
       "  </thead>\n",
       "  <tbody>\n",
       "    <tr>\n",
       "      <th>1</th>\n",
       "      <td>0</td>\n",
       "      <td>0</td>\n",
       "      <td>0</td>\n",
       "      <td>0</td>\n",
       "      <td>0</td>\n",
       "      <td>0</td>\n",
       "      <td>0</td>\n",
       "      <td>0</td>\n",
       "      <td>0</td>\n",
       "      <td>0</td>\n",
       "    </tr>\n",
       "    <tr>\n",
       "      <th>2</th>\n",
       "      <td>1</td>\n",
       "      <td>1</td>\n",
       "      <td>1</td>\n",
       "      <td>0</td>\n",
       "      <td>1</td>\n",
       "      <td>0</td>\n",
       "      <td>0</td>\n",
       "      <td>1</td>\n",
       "      <td>0</td>\n",
       "      <td>1</td>\n",
       "    </tr>\n",
       "    <tr>\n",
       "      <th>3</th>\n",
       "      <td>2</td>\n",
       "      <td>2</td>\n",
       "      <td>2</td>\n",
       "      <td>0</td>\n",
       "      <td>0</td>\n",
       "      <td>1</td>\n",
       "      <td>0</td>\n",
       "      <td>2</td>\n",
       "      <td>0</td>\n",
       "      <td>0</td>\n",
       "    </tr>\n",
       "    <tr>\n",
       "      <th>4</th>\n",
       "      <td>3</td>\n",
       "      <td>2</td>\n",
       "      <td>3</td>\n",
       "      <td>0</td>\n",
       "      <td>1</td>\n",
       "      <td>1</td>\n",
       "      <td>0</td>\n",
       "      <td>3</td>\n",
       "      <td>0</td>\n",
       "      <td>2</td>\n",
       "    </tr>\n",
       "    <tr>\n",
       "      <th>5</th>\n",
       "      <td>4</td>\n",
       "      <td>3</td>\n",
       "      <td>4</td>\n",
       "      <td>1</td>\n",
       "      <td>0</td>\n",
       "      <td>0</td>\n",
       "      <td>0</td>\n",
       "      <td>4</td>\n",
       "      <td>0</td>\n",
       "      <td>1</td>\n",
       "    </tr>\n",
       "  </tbody>\n",
       "</table>\n",
       "</div>"
      ],
      "text/plain": [
       "   Variates  P.  B.  Warna  rasa  teknik  Musim  Penyakit  PH  Grade Mutu\n",
       "1         0   0   0      0     0       0      0         0   0           0\n",
       "2         1   1   1      0     1       0      0         1   0           1\n",
       "3         2   2   2      0     0       1      0         2   0           0\n",
       "4         3   2   3      0     1       1      0         3   0           2\n",
       "5         4   3   4      1     0       0      0         4   0           1"
      ]
     },
     "execution_count": 3,
     "metadata": {},
     "output_type": "execute_result"
    }
   ],
   "source": [
    "#Menginisiliasi data karena masih menggunakan string\n",
    "df = df.apply(lambda x: pd.factorize(x)[0])\n",
    "df.drop(df.columns[[0]], axis =1 , inplace = True)\n",
    "df.head()"
   ]
  },
  {
   "cell_type": "code",
   "execution_count": 4,
   "metadata": {},
   "outputs": [],
   "source": [
    "#memisahkan atribut dan juga labelnya\n",
    "features = df.iloc[:,:-1].values\n",
    "target = df.iloc[:,-1].values"
   ]
  },
  {
   "cell_type": "code",
   "execution_count": 5,
   "metadata": {},
   "outputs": [],
   "source": [
    "#Membagi data training dan juga data testing\n",
    "from sklearn.model_selection import train_test_split"
   ]
  },
  {
   "cell_type": "code",
   "execution_count": 6,
   "metadata": {},
   "outputs": [],
   "source": [
    "x_train,x_test,y_train,y_test= train_test_split(features, target , test_size=0.25, random_state=0)\n"
   ]
  },
  {
   "cell_type": "code",
   "execution_count": 7,
   "metadata": {},
   "outputs": [
    {
     "name": "stdout",
     "output_type": "stream",
     "text": [
      "Data atribut training:\n",
      "[[ 1  1  7 ...  0  2  0]\n",
      " [ 3  5  3 ...  1  4  1]\n",
      " [ 4  3 15 ...  0  2  0]\n",
      " ...\n",
      " [ 3  7  3 ...  1  3  3]\n",
      " [ 3  5  3 ...  0  2  2]\n",
      " [ 2  8 12 ...  1  2  3]]\n",
      "Data atribut testing:\n",
      "[[ 2  6  2 ...  0  3  2]\n",
      " [ 4  3  4 ...  1  3  1]\n",
      " [ 3  4  8 ...  0  3  0]\n",
      " ...\n",
      " [ 2  7  2 ...  1  0  3]\n",
      " [ 1  3 11 ...  0  2  2]\n",
      " [ 4  8  0 ...  0  2  2]]\n",
      "Data target training:\n",
      "[1 0 1 ... 2 1 1]\n",
      "Data target testing:\n",
      "[2 2 2 ... 1 2 2]\n"
     ]
    }
   ],
   "source": [
    "print(\"Data atribut training:\")\n",
    "print(x_train)\n",
    "print(\"Data atribut testing:\")\n",
    "print(x_test)\n",
    "print(\"Data target training:\")\n",
    "print(y_train)\n",
    "print(\"Data target testing:\")\n",
    "print(y_test)"
   ]
  },
  {
   "cell_type": "code",
   "execution_count": 8,
   "metadata": {},
   "outputs": [],
   "source": [
    "#melakukan pemodelan menggunakan algoritma C4.5\n",
    "from sklearn.tree import DecisionTreeClassifier\n",
    "from sklearn import tree\n",
    "model=tree.DecisionTreeClassifier(random_state=0, max_depth=None, min_samples_split=2, min_samples_leaf=1,min_weight_fraction_leaf=0,max_leaf_nodes=None,min_impurity_decrease=0)\n",
    "clf = model.fit(x_train, y_train)"
   ]
  },
  {
   "cell_type": "code",
   "execution_count": 9,
   "metadata": {},
   "outputs": [],
   "source": [
    "#confution matrix\n",
    "from sklearn.metrics import confusion_matrix\n",
    "from sklearn.metrics import classification_report\n",
    "from sklearn.metrics import accuracy_score "
   ]
  },
  {
   "cell_type": "code",
   "execution_count": 10,
   "metadata": {},
   "outputs": [
    {
     "name": "stdout",
     "output_type": "stream",
     "text": [
      "confusion matrix\n",
      "[[241   0   0   0]\n",
      " [  0 576   0   0]\n",
      " [  0   0 402   0]\n",
      " [  0   0   0  19]]\n",
      "tingkat akurasi algoritma C4.5\n",
      "Akurasi :               precision    recall  f1-score   support\n",
      "\n",
      "           0       1.00      1.00      1.00       241\n",
      "           1       1.00      1.00      1.00       576\n",
      "           2       1.00      1.00      1.00       402\n",
      "           3       1.00      1.00      1.00        19\n",
      "\n",
      "    accuracy                           1.00      1238\n",
      "   macro avg       1.00      1.00      1.00      1238\n",
      "weighted avg       1.00      1.00      1.00      1238\n",
      "\n",
      "Tingkat Akurasi :100 persen\n"
     ]
    }
   ],
   "source": [
    "y_pred = model.predict(x_test)\n",
    "cm =confusion_matrix(y_test,y_pred)\n",
    "print(\"confusion matrix\")\n",
    "print(cm)\n",
    "akurasi=classification_report(y_test,y_pred)\n",
    "print(\"tingkat akurasi algoritma C4.5\")\n",
    "print(\"Akurasi :\", akurasi)\n",
    "akurasi=accuracy_score(y_test,y_pred) \n",
    "print(\"Tingkat Akurasi :%d persen\"%(akurasi*100))"
   ]
  },
  {
   "cell_type": "code",
   "execution_count": 11,
   "metadata": {},
   "outputs": [
    {
     "data": {
      "text/plain": [
       "'Source.gv.pdf'"
      ]
     },
     "execution_count": 11,
     "metadata": {},
     "output_type": "execute_result"
    }
   ],
   "source": [
    "import graphviz\n",
    "dot_data = tree.export_graphviz(model, out_file=None,filled = True)\n",
    "graph = graphviz.Source(dot_data)\n",
    "graph.view()"
   ]
  },
  {
   "cell_type": "code",
   "execution_count": null,
   "metadata": {},
   "outputs": [],
   "source": []
  }
 ],
 "metadata": {
  "kernelspec": {
   "display_name": "Python 3",
   "language": "python",
   "name": "python3"
  },
  "language_info": {
   "codemirror_mode": {
    "name": "ipython",
    "version": 3
   },
   "file_extension": ".py",
   "mimetype": "text/x-python",
   "name": "python",
   "nbconvert_exporter": "python",
   "pygments_lexer": "ipython3",
   "version": "3.8.5"
  }
 },
 "nbformat": 4,
 "nbformat_minor": 4
}
